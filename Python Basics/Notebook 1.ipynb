{
 "cells": [
  {
   "cell_type": "markdown",
   "id": "5b58debf",
   "metadata": {},
   "source": [
    "# PRINT STATEMENT "
   ]
  },
  {
   "cell_type": "code",
   "execution_count": 2,
   "id": "91558d8c",
   "metadata": {
    "scrolled": false
   },
   "outputs": [
    {
     "name": "stdout",
     "output_type": "stream",
     "text": [
      "Hello World!...\n"
     ]
    }
   ],
   "source": [
    "#to print a statement \n",
    "print(\"Hello World!...\")"
   ]
  },
  {
   "cell_type": "code",
   "execution_count": 3,
   "id": "a6d02db2",
   "metadata": {},
   "outputs": [
    {
     "name": "stdout",
     "output_type": "stream",
     "text": [
      "Tamilarasi S\n"
     ]
    }
   ],
   "source": [
    "#to print my name\n",
    "print(\"Tamilarasi S\")"
   ]
  },
  {
   "cell_type": "code",
   "execution_count": 4,
   "id": "c7d68e8f",
   "metadata": {
    "scrolled": true
   },
   "outputs": [
    {
     "name": "stdout",
     "output_type": "stream",
     "text": [
      "5\n"
     ]
    }
   ],
   "source": [
    "#to print the answer for addition\n",
    "print(2+3)"
   ]
  },
  {
   "cell_type": "markdown",
   "id": "6f35486b",
   "metadata": {},
   "source": [
    "# VARIABLE "
   ]
  },
  {
   "cell_type": "markdown",
   "id": "b1a800b9",
   "metadata": {},
   "source": [
    "Variable are used for storing purpose. Let consider \"a = 2\" , 'a' is the variable name and 2 is the value stored in that variable"
   ]
  },
  {
   "cell_type": "code",
   "execution_count": 5,
   "id": "8367344d",
   "metadata": {},
   "outputs": [
    {
     "name": "stdout",
     "output_type": "stream",
     "text": [
      "5\n"
     ]
    }
   ],
   "source": [
    "a = 5           #variable 'a ' stores the value 5\n",
    "print(a)        # value stored in 'a' is printed using print statement"
   ]
  },
  {
   "cell_type": "code",
   "execution_count": 6,
   "id": "16978384",
   "metadata": {},
   "outputs": [
    {
     "name": "stdout",
     "output_type": "stream",
     "text": [
      "15\n"
     ]
    }
   ],
   "source": [
    "a = 10              #variable 'a' stored the value 10\n",
    "b = 5                #variable 'b' stored the value 5\n",
    "print( a + b)      #the addition of a and b will printed using print statement"
   ]
  }
 ],
 "metadata": {
  "kernelspec": {
   "display_name": "Python 3 (ipykernel)",
   "language": "python",
   "name": "python3"
  },
  "language_info": {
   "codemirror_mode": {
    "name": "ipython",
    "version": 3
   },
   "file_extension": ".py",
   "mimetype": "text/x-python",
   "name": "python",
   "nbconvert_exporter": "python",
   "pygments_lexer": "ipython3",
   "version": "3.9.13"
  }
 },
 "nbformat": 4,
 "nbformat_minor": 5
}
