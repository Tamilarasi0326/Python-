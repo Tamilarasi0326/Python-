{
 "cells": [
  {
   "cell_type": "markdown",
   "id": "5b58debf",
   "metadata": {},
   "source": [
    "# 1. PRINT STATEMENT "
   ]
  },
  {
   "cell_type": "code",
   "execution_count": 1,
   "id": "91558d8c",
   "metadata": {
    "scrolled": false
   },
   "outputs": [
    {
     "name": "stdout",
     "output_type": "stream",
     "text": [
      "Hello World!...\n"
     ]
    }
   ],
   "source": [
    "#to print a statement \n",
    "print(\"Hello World!...\")"
   ]
  },
  {
   "cell_type": "code",
   "execution_count": 2,
   "id": "a6d02db2",
   "metadata": {},
   "outputs": [
    {
     "name": "stdout",
     "output_type": "stream",
     "text": [
      "Tamilarasi S\n"
     ]
    }
   ],
   "source": [
    "#to print my name\n",
    "print(\"Tamilarasi S\")"
   ]
  },
  {
   "cell_type": "code",
   "execution_count": 3,
   "id": "c7d68e8f",
   "metadata": {
    "scrolled": true
   },
   "outputs": [
    {
     "name": "stdout",
     "output_type": "stream",
     "text": [
      "5\n"
     ]
    }
   ],
   "source": [
    "#to print the answer for addition\n",
    "print(2+3)"
   ]
  },
  {
   "cell_type": "markdown",
   "id": "6f35486b",
   "metadata": {},
   "source": [
    "# 2. VARIABLE "
   ]
  },
  {
   "cell_type": "markdown",
   "id": "b1a800b9",
   "metadata": {},
   "source": [
    "Variable are used for storing purpose. Let consider \"a = 2\" , 'a' is the variable name and 2 is the value stored in that variable"
   ]
  },
  {
   "cell_type": "code",
   "execution_count": 4,
   "id": "8367344d",
   "metadata": {},
   "outputs": [
    {
     "name": "stdout",
     "output_type": "stream",
     "text": [
      "5\n"
     ]
    }
   ],
   "source": [
    "a = 5           #variable 'a ' stores the value 5\n",
    "print(a)        # value stored in 'a' is printed using print statement"
   ]
  },
  {
   "cell_type": "code",
   "execution_count": 5,
   "id": "16978384",
   "metadata": {
    "scrolled": true
   },
   "outputs": [
    {
     "name": "stdout",
     "output_type": "stream",
     "text": [
      "15\n"
     ]
    }
   ],
   "source": [
    "a = 10              #variable 'a' stored the value 10\n",
    "b = 5                #variable 'b' stored the value 5\n",
    "print( a + b)      #the addition of a and b will printed using print statement"
   ]
  },
  {
   "cell_type": "markdown",
   "id": "b579981e",
   "metadata": {},
   "source": [
    "# 3. DATA TYPES"
   ]
  },
  {
   "cell_type": "markdown",
   "id": "db710adb",
   "metadata": {},
   "source": [
    "#Variables can store data of different types, and different types can do different things :-                                                        Text Type     :\tstr\n",
    "Numeric Types :\tint, float, complex\n",
    "Sequence Types:\tlist, tuple, range\n",
    "Mapping Type  :\tdict\n",
    "Set Types     :\tset, frozenset\n",
    "Boolean Type  :\tbool\n",
    "Binary Types  :\tbytes, bytearray, memoryview\n",
    "None Type     :\tNoneType                                                                    "
   ]
  },
  {
   "cell_type": "code",
   "execution_count": 6,
   "id": "cb752c35",
   "metadata": {},
   "outputs": [
    {
     "name": "stdout",
     "output_type": "stream",
     "text": [
      "<class 'int'>\n"
     ]
    }
   ],
   "source": [
    "a = 20                  # variable 'a' stores the value 20\n",
    "print(type(a))          # \"type\" keyword tells data type category of the mentioned variable"
   ]
  },
  {
   "cell_type": "code",
   "execution_count": 7,
   "id": "30c23a65",
   "metadata": {},
   "outputs": [
    {
     "name": "stdout",
     "output_type": "stream",
     "text": [
      "<class 'str'>\n"
     ]
    }
   ],
   "source": [
    "a = \"Clouds\"         # variable 'a' stores the word \"Clouds\"\n",
    "print(type(a))       # \"type\" keyword tells data type category of the mentioned variable"
   ]
  },
  {
   "cell_type": "markdown",
   "id": "c4819b7a",
   "metadata": {},
   "source": [
    "# 4. OPERATORS"
   ]
  },
  {
   "cell_type": "markdown",
   "id": "12d682c9",
   "metadata": {},
   "source": [
    "Python divides the operators in the following groups:\n",
    "\n",
    "Arithmetic operators\n",
    "Assignment operators\n",
    "Comparison operators\n",
    "Logical operators\n",
    "Identity operators\n",
    "Membership operators\n",
    "Bitwise operators"
   ]
  },
  {
   "cell_type": "markdown",
   "id": "dcd8e4c7",
   "metadata": {},
   "source": [
    "Python Arithmetic Operators\n",
    "Arithmetic operators are used with numeric values to perform common mathematical operations:\n",
    "\n",
    "                                                                                                                           | Operator | Name           | Example    |\n",
    "|----------|----------------|------------|\n",
    "| +        | Addition       | x + y      |\n",
    "| -        | Subtraction    | x - y      |\n",
    "| *        | Multiplication | x * y      |\n",
    "| /        | Division       | x / y      |\n",
    "| %        | Modulus        | x % y      |\n",
    "| **       | Exponentiation | x ** y     |\n",
    "| //       | Floor division | x // y     |\n"
   ]
  },
  {
   "cell_type": "markdown",
   "id": "57b7a27b",
   "metadata": {},
   "source": [
    "Python Assignment Operators\n",
    "Assignment operators are used to assign values to variables:                                                                                                                                                                                            | Operator | Example   | Same As      |\n",
    "|----------|-----------|--------------|\n",
    "| =        | x = 5     | x = 5        |\n",
    "| +=       | x += 3    | x = x + 3    |\n",
    "| -=       | x -= 3    | x = x - 3    |\n",
    "| *=       | x *= 3    | x = x * 3    |\n",
    "| /=       | x /= 3    | x = x / 3    |\n",
    "| %=       | x %= 3    | x = x % 3    |\n",
    "| //=      | x //= 3   | x = x // 3   |\n",
    "| **=      | x **= 3   | x = x ** 3   |\n",
    "| &=       | x &= 3    | x = x & 3    |\n",
    "| |=       | x |= 3    | x = x | 3    |\n",
    "| ^=       | x ^= 3    | x = x ^ 3    |\n",
    "| >>=      | x >>= 3   | x = x >> 3   |\n",
    "| <<=      | x <<= 3   | x = x << 3   |\n"
   ]
  },
  {
   "cell_type": "markdown",
   "id": "410a6011",
   "metadata": {},
   "source": [
    "Python Comparison Operators\n",
    "Comparison operators are used to compare two values:                                                                                                                                                                                                    | Operator | Name                           | Example    |\n",
    "|----------|--------------------------------|------------|\n",
    "| ==       | Equal                          | x == y     |\n",
    "| !=       | Not equal                      | x != y     |\n",
    "| >        | Greater than                   | x > y      |\n",
    "| <        | Less than                      | x < y      |\n",
    "| >=       | Greater than or equal to       | x >= y     |\n",
    "| <=       | Less than or equal to          | x <= y     |\n"
   ]
  },
  {
   "cell_type": "markdown",
   "id": "85a77557",
   "metadata": {},
   "source": [
    "Python Logical Operators\n",
    "Logical operators are used to combine conditional statements:                                                                                                                                                                                            | Operator | Description                                     | Example                           |\n",
    "|----------|-------------------------------------------------|-----------------------------------|\n",
    "| and      | Returns True if both statements are true        | x < 5 and x < 10                  |\n",
    "| or       | Returns True if one of the statements is true   | x < 5 or x < 4                    |\n",
    "| not      | Reverse the result, returns False if true       | not(x < 5 and x < 10)             |\n"
   ]
  },
  {
   "cell_type": "markdown",
   "id": "7c228e93",
   "metadata": {},
   "source": [
    "Python Identity Operators\n",
    "Identity operators are used to compare the objects, not if they are equal, but if they are actually the same object, with the same memory location:                                                                                                                                                                                                                                | Operator | Description                                              | Example    |\n",
    "|----------|----------------------------------------------------------|------------|\n",
    "| is       | Returns True if both variables are the same object       | x is y     |\n",
    "| is not   | Returns True if both variables are not the same object   | x is not y |\n"
   ]
  },
  {
   "cell_type": "markdown",
   "id": "567e4d0a",
   "metadata": {},
   "source": [
    "Python Membership Operators                                                                                        Membership operators are used to test if a sequence is presented in an object:                                                                                                                                                                          | Operator | Description                                                  | Example    |\n",
    "|----------|--------------------------------------------------------------|------------|\n",
    "| in       | Returns True if a sequence with the specified value is       | x in y     |\n",
    "|          | present in the object                                        |            |\n",
    "| not in   | Returns True if a sequence with the specified value is not   | x not in y |\n",
    "|          | present in the object                                        |            |\n"
   ]
  },
  {
   "cell_type": "markdown",
   "id": "a6135443",
   "metadata": {},
   "source": [
    "Python Bitwise Operators\n",
    "Bitwise operators are used to compare (binary) numbers:                                                                               \n",
    "                                                                                                                            | Operator | Name                 | Description                                                 | Example    |\n",
    "|----------|----------------------|------------------------------------------------------------ |------------|\n",
    "| &        | AND                  | Sets each bit to 1 if both bits are 1                       | x & y      |\n",
    "| ||       | OR                   | Sets each bit to 1 if one of two bits is 1                  | x || y     |\n",
    "| ^        | XOR                  | Sets each bit to 1 if only one of two bits is 1             | x ^ y      |\n",
    "| ~        | NOT                  | Inverts all the bits                                        | ~x         |\n",
    "| <<       | Zero fill left shift | Shift left by pushing zeros in from the right               | x << 2     |\n",
    "| >>       | Signed right shift   | Shift right by pushing copies of the leftmost bit           | x >> 2     |\n",
    "|          |                      | in from the left, and let the rightmost bits fall off       |            |\n"
   ]
  },
  {
   "cell_type": "code",
   "execution_count": 8,
   "id": "7a70c5ca",
   "metadata": {},
   "outputs": [
    {
     "name": "stdout",
     "output_type": "stream",
     "text": [
      "30\n"
     ]
    }
   ],
   "source": [
    "a = 10\n",
    "b = 20\n",
    "c = a+b\n",
    "print(c)"
   ]
  },
  {
   "cell_type": "markdown",
   "id": "ca20228d",
   "metadata": {},
   "source": [
    "# 5. CASTING"
   ]
  },
  {
   "cell_type": "markdown",
   "id": "b0caa8e9",
   "metadata": {},
   "source": [
    "In Python, casting is the process of converting a variable's data type to another data type."
   ]
  },
  {
   "cell_type": "code",
   "execution_count": 9,
   "id": "22782db1",
   "metadata": {},
   "outputs": [
    {
     "name": "stdout",
     "output_type": "stream",
     "text": [
      "30\n"
     ]
    }
   ],
   "source": [
    "a = int(\"10\")     #Converting string to int\n",
    "b = int(\"20\")     #Converting string to int\n",
    "c = a+b\n",
    "print(c)"
   ]
  },
  {
   "cell_type": "markdown",
   "id": "f130073f",
   "metadata": {},
   "source": [
    "# 6. USER INPUT"
   ]
  },
  {
   "cell_type": "code",
   "execution_count": 10,
   "id": "6878203d",
   "metadata": {},
   "outputs": [
    {
     "name": "stdout",
     "output_type": "stream",
     "text": [
      "5\n",
      "5\n"
     ]
    }
   ],
   "source": [
    "a = input()   #to get input from user and store it as string format defaultly\n",
    "print(a)"
   ]
  },
  {
   "cell_type": "code",
   "execution_count": 11,
   "id": "f7cfc7cf",
   "metadata": {},
   "outputs": [
    {
     "name": "stdout",
     "output_type": "stream",
     "text": [
      "Enter the value for a:5\n",
      "Enter the value for b:45\n",
      "50\n"
     ]
    }
   ],
   "source": [
    "a = int(input(\"Enter the value for a:\"))  #the input in string format is converted into int\n",
    "b = int(input(\"Enter the value for b:\"))  #the input in string format is converted into int\n",
    "c = a + b\n",
    "print(c)"
   ]
  },
  {
   "cell_type": "markdown",
   "id": "f3b11d50",
   "metadata": {},
   "source": [
    "#  SAMPLE EXAMPLES"
   ]
  },
  {
   "cell_type": "markdown",
   "id": "2999f3b2",
   "metadata": {},
   "source": [
    "1) Get input for variable name and age. Print it.                                                                      sample input:                                                                                                            Tamil                                                                                                                        20                                                                                                                          sample Output :                                                                                                          \"My Name is: Tamil\"                                                                                                         \"My Age is: 20\""
   ]
  },
  {
   "cell_type": "code",
   "execution_count": 12,
   "id": "a74a1780",
   "metadata": {},
   "outputs": [
    {
     "name": "stdout",
     "output_type": "stream",
     "text": [
      "Tamil\n",
      "20\n",
      "My Name is Tamil\n",
      "My Age is 20\n"
     ]
    }
   ],
   "source": [
    "Name = input()\n",
    "Age = int(input())\n",
    "print(\"My Name is\", Name)\n",
    "print(\"My Age is\", Age) "
   ]
  },
  {
   "cell_type": "markdown",
   "id": "6b43e6a5",
   "metadata": {},
   "source": [
    "2)Get input for variable name and age. Print name, age and address.                                                          sample input:                                                                                                            Tamil                                                                                                                        20                                                                                                                          sample Output :                                                                                                          \"My Name is: Tamil\"                                                                                                         \"My Age is: 20\"\n",
    "\"My Address is: Avadi, Chennai\""
   ]
  },
  {
   "cell_type": "code",
   "execution_count": 13,
   "id": "7933daf2",
   "metadata": {},
   "outputs": [
    {
     "name": "stdout",
     "output_type": "stream",
     "text": [
      "Enter name:Tamil\n",
      "Enter Age:20\n",
      "Enter addressChennai\n",
      "My Name is Tamil\n",
      "My Age is 20\n",
      "My Address is Chennai\n"
     ]
    }
   ],
   "source": [
    "Name = input(\"Enter name:\")\n",
    "Age = int(input(\"Enter Age:\"))\n",
    "Address = input(\"Enter address\")\n",
    "print(\"My Name is\", Name)\n",
    "print(\"My Age is\", Age) \n",
    "print(\"My Address is\", Address)"
   ]
  },
  {
   "cell_type": "markdown",
   "id": "6f8ab704",
   "metadata": {},
   "source": [
    "3) Get integer input for variable a, b, c. Multiply all 3 variables(a*b*c) add all 3 variable (a+b+c), Divide the multiplied value by added values. Print it. Output should be in decimal value."
   ]
  },
  {
   "cell_type": "code",
   "execution_count": 1,
   "id": "7ad6535f",
   "metadata": {},
   "outputs": [
    {
     "name": "stdout",
     "output_type": "stream",
     "text": [
      "a = 5\n",
      "b = 4\n",
      "c = 3\n",
      "5.0\n"
     ]
    }
   ],
   "source": [
    "a = int(input(\"a = \"))\n",
    "b = int(input(\"b = \"))\n",
    "c = int(input(\"c = \"))\n",
    "mul = a*b*c\n",
    "add = a+b+c\n",
    "print(float(mul/add))\n"
   ]
  },
  {
   "cell_type": "markdown",
   "id": "fdeaf0ab",
   "metadata": {},
   "source": [
    "4) Get input for varibale name, Score, Department. Get score for 100, and divide 100/10"
   ]
  },
  {
   "cell_type": "code",
   "execution_count": 4,
   "id": "deaa1455",
   "metadata": {
    "scrolled": true
   },
   "outputs": [
    {
     "name": "stdout",
     "output_type": "stream",
     "text": [
      "Enter name:Tamilarasi\n",
      "Enter Score:86\n",
      "Enter department:Computer Science\n",
      "My name is Tamilarasi\n",
      "My Score is 8.6 /10\n",
      "My department is Computer Science\n"
     ]
    }
   ],
   "source": [
    "Name = input(\"Enter name:\")\n",
    "Score = int(input(\"Enter Score:\"))\n",
    "Department = input(\"Enter department:\")\n",
    "Mark = Score/10\n",
    "print(\"My name is\", Name)\n",
    "print(\"My Score is\", Mark,\"/10\")\n",
    "print(\"My department is\", Department)"
   ]
  },
  {
   "cell_type": "markdown",
   "id": "03b89628",
   "metadata": {},
   "source": [
    "# 7. COMPARISION OPERATOR "
   ]
  },
  {
   "cell_type": "code",
   "execution_count": 9,
   "id": "f9f1c6ad",
   "metadata": {},
   "outputs": [
    {
     "name": "stdout",
     "output_type": "stream",
     "text": [
      "True\n"
     ]
    }
   ],
   "source": [
    "print(\"win\" == \"win\")  #comparision operator"
   ]
  },
  {
   "cell_type": "code",
   "execution_count": 10,
   "id": "c3ab1161",
   "metadata": {},
   "outputs": [
    {
     "name": "stdout",
     "output_type": "stream",
     "text": [
      "False\n"
     ]
    }
   ],
   "source": [
    "print(\"win\" == \"winn\") #comparision operator"
   ]
  },
  {
   "cell_type": "markdown",
   "id": "3846b105",
   "metadata": {},
   "source": [
    "# 8. IF-ELSE"
   ]
  },
  {
   "cell_type": "code",
   "execution_count": 5,
   "id": "e5f4a9a7",
   "metadata": {},
   "outputs": [
    {
     "name": "stdout",
     "output_type": "stream",
     "text": [
      "Yes\n"
     ]
    }
   ],
   "source": [
    "if(True):\n",
    "    print(\"Yes\")\n",
    "else:\n",
    "    print(\"No\")"
   ]
  },
  {
   "cell_type": "code",
   "execution_count": 6,
   "id": "2d0f9851",
   "metadata": {},
   "outputs": [
    {
     "name": "stdout",
     "output_type": "stream",
     "text": [
      "No\n"
     ]
    }
   ],
   "source": [
    "if(False):\n",
    "    print(\"Yes\")\n",
    "else:\n",
    "    print(\"No\")"
   ]
  },
  {
   "cell_type": "code",
   "execution_count": 11,
   "id": "efdb0482",
   "metadata": {},
   "outputs": [
    {
     "name": "stdout",
     "output_type": "stream",
     "text": [
      "put up the umbrella\n"
     ]
    }
   ],
   "source": [
    "weather = \"Rainy\"\n",
    "if(weather == \"Rainy\"):\n",
    "    print(\"put up the umbrella\")\n",
    "else:\n",
    "    print(\"put down the umbrella\")\n"
   ]
  },
  {
   "cell_type": "code",
   "execution_count": 12,
   "id": "4428b483",
   "metadata": {},
   "outputs": [
    {
     "name": "stdout",
     "output_type": "stream",
     "text": [
      "put down the umbrella\n"
     ]
    }
   ],
   "source": [
    "weather = \"Sun Shining\"\n",
    "if(weather == \"Rainy\"):\n",
    "    print(\"put up the umbrella\")\n",
    "else:\n",
    "    print(\"put down the umbrella\")"
   ]
  },
  {
   "cell_type": "code",
   "execution_count": 14,
   "id": "43556335",
   "metadata": {},
   "outputs": [
    {
     "name": "stdout",
     "output_type": "stream",
     "text": [
      "Died\n",
      "Surya meets priya\n"
     ]
    }
   ],
   "source": [
    "meghna = input()\n",
    "if(meghna == \"Died\"):\n",
    "    print(\"Surya meets priya\")\n",
    "else:\n",
    "    print(\"Surya weds meghna\")"
   ]
  }
 ],
 "metadata": {
  "kernelspec": {
   "display_name": "Python 3 (ipykernel)",
   "language": "python",
   "name": "python3"
  },
  "language_info": {
   "codemirror_mode": {
    "name": "ipython",
    "version": 3
   },
   "file_extension": ".py",
   "mimetype": "text/x-python",
   "name": "python",
   "nbconvert_exporter": "python",
   "pygments_lexer": "ipython3",
   "version": "3.9.13"
  }
 },
 "nbformat": 4,
 "nbformat_minor": 5
}
