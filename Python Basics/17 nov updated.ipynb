{
 "cells": [
  {
   "cell_type": "markdown",
   "id": "5b58debf",
   "metadata": {},
   "source": [
    "# 1. PRINT STATEMENT "
   ]
  },
  {
   "cell_type": "code",
   "execution_count": 1,
   "id": "91558d8c",
   "metadata": {
    "scrolled": false
   },
   "outputs": [
    {
     "name": "stdout",
     "output_type": "stream",
     "text": [
      "Hello World!...\n"
     ]
    }
   ],
   "source": [
    "#to print a statement \n",
    "print(\"Hello World!...\")"
   ]
  },
  {
   "cell_type": "code",
   "execution_count": 2,
   "id": "a6d02db2",
   "metadata": {},
   "outputs": [
    {
     "name": "stdout",
     "output_type": "stream",
     "text": [
      "Tamilarasi S\n"
     ]
    }
   ],
   "source": [
    "#to print my name\n",
    "print(\"Tamilarasi S\")"
   ]
  },
  {
   "cell_type": "code",
   "execution_count": 3,
   "id": "c7d68e8f",
   "metadata": {
    "scrolled": true
   },
   "outputs": [
    {
     "name": "stdout",
     "output_type": "stream",
     "text": [
      "5\n"
     ]
    }
   ],
   "source": [
    "#to print the answer for addition\n",
    "print(2+3)"
   ]
  },
  {
   "cell_type": "markdown",
   "id": "6f35486b",
   "metadata": {},
   "source": [
    "# 2. VARIABLE "
   ]
  },
  {
   "cell_type": "markdown",
   "id": "b1a800b9",
   "metadata": {},
   "source": [
    "Variable are used for storing purpose. Let consider \"a = 2\" , 'a' is the variable name and 2 is the value stored in that variable"
   ]
  },
  {
   "cell_type": "code",
   "execution_count": 4,
   "id": "8367344d",
   "metadata": {},
   "outputs": [
    {
     "name": "stdout",
     "output_type": "stream",
     "text": [
      "5\n"
     ]
    }
   ],
   "source": [
    "a = 5           #variable 'a ' stores the value 5\n",
    "print(a)        # value stored in 'a' is printed using print statement"
   ]
  },
  {
   "cell_type": "code",
   "execution_count": 5,
   "id": "16978384",
   "metadata": {
    "scrolled": true
   },
   "outputs": [
    {
     "name": "stdout",
     "output_type": "stream",
     "text": [
      "15\n"
     ]
    }
   ],
   "source": [
    "a = 10              #variable 'a' stored the value 10\n",
    "b = 5                #variable 'b' stored the value 5\n",
    "print( a + b)      #the addition of a and b will printed using print statement"
   ]
  },
  {
   "cell_type": "markdown",
   "id": "b579981e",
   "metadata": {},
   "source": [
    "# 3. DATA TYPES"
   ]
  },
  {
   "cell_type": "markdown",
   "id": "db710adb",
   "metadata": {},
   "source": [
    "#Variables can store data of different types, and different types can do different things :-                                                        Text Type     :\tstr\n",
    "Numeric Types :\tint, float, complex\n",
    "Sequence Types:\tlist, tuple, range\n",
    "Mapping Type  :\tdict\n",
    "Set Types     :\tset, frozenset\n",
    "Boolean Type  :\tbool\n",
    "Binary Types  :\tbytes, bytearray, memoryview\n",
    "None Type     :\tNoneType                                                                    "
   ]
  },
  {
   "cell_type": "code",
   "execution_count": 6,
   "id": "cb752c35",
   "metadata": {},
   "outputs": [
    {
     "name": "stdout",
     "output_type": "stream",
     "text": [
      "<class 'int'>\n"
     ]
    }
   ],
   "source": [
    "a = 20                  # variable 'a' stores the value 20\n",
    "print(type(a))          # \"type\" keyword tells data type category of the mentioned variable"
   ]
  },
  {
   "cell_type": "code",
   "execution_count": 7,
   "id": "30c23a65",
   "metadata": {},
   "outputs": [
    {
     "name": "stdout",
     "output_type": "stream",
     "text": [
      "<class 'str'>\n"
     ]
    }
   ],
   "source": [
    "a = \"Clouds\"         # variable 'a' stores the word \"Clouds\"\n",
    "print(type(a))       # \"type\" keyword tells data type category of the mentioned variable"
   ]
  },
  {
   "cell_type": "markdown",
   "id": "c4819b7a",
   "metadata": {},
   "source": [
    "# 4. OPERATORS"
   ]
  },
  {
   "cell_type": "markdown",
   "id": "12d682c9",
   "metadata": {},
   "source": [
    "Python divides the operators in the following groups:\n",
    "\n",
    "Arithmetic operators\n",
    "Assignment operators\n",
    "Comparison operators\n",
    "Logical operators\n",
    "Identity operators\n",
    "Membership operators\n",
    "Bitwise operators"
   ]
  },
  {
   "cell_type": "markdown",
   "id": "dcd8e4c7",
   "metadata": {},
   "source": [
    "Python Arithmetic Operators\n",
    "Arithmetic operators are used with numeric values to perform common mathematical operations:\n",
    "\n",
    "                                                                                                                           | Operator | Name           | Example    |\n",
    "|----------|----------------|------------|\n",
    "| +        | Addition       | x + y      |\n",
    "| -        | Subtraction    | x - y      |\n",
    "| *        | Multiplication | x * y      |\n",
    "| /        | Division       | x / y      |\n",
    "| %        | Modulus        | x % y      |\n",
    "| **       | Exponentiation | x ** y     |\n",
    "| //       | Floor division | x // y     |\n"
   ]
  },
  {
   "cell_type": "markdown",
   "id": "57b7a27b",
   "metadata": {},
   "source": [
    "Python Assignment Operators\n",
    "Assignment operators are used to assign values to variables:                                                                                                                                                                                            | Operator | Example   | Same As      |\n",
    "|----------|-----------|--------------|\n",
    "| =        | x = 5     | x = 5        |\n",
    "| +=       | x += 3    | x = x + 3    |\n",
    "| -=       | x -= 3    | x = x - 3    |\n",
    "| *=       | x *= 3    | x = x * 3    |\n",
    "| /=       | x /= 3    | x = x / 3    |\n",
    "| %=       | x %= 3    | x = x % 3    |\n",
    "| //=      | x //= 3   | x = x // 3   |\n",
    "| **=      | x **= 3   | x = x ** 3   |\n",
    "| &=       | x &= 3    | x = x & 3    |\n",
    "| |=       | x |= 3    | x = x | 3    |\n",
    "| ^=       | x ^= 3    | x = x ^ 3    |\n",
    "| >>=      | x >>= 3   | x = x >> 3   |\n",
    "| <<=      | x <<= 3   | x = x << 3   |\n"
   ]
  },
  {
   "cell_type": "markdown",
   "id": "410a6011",
   "metadata": {},
   "source": [
    "Python Comparison Operators\n",
    "Comparison operators are used to compare two values:                                                                                                                                                                                                    | Operator | Name                           | Example    |\n",
    "|----------|--------------------------------|------------|\n",
    "| ==       | Equal                          | x == y     |\n",
    "| !=       | Not equal                      | x != y     |\n",
    "| >        | Greater than                   | x > y      |\n",
    "| <        | Less than                      | x < y      |\n",
    "| >=       | Greater than or equal to       | x >= y     |\n",
    "| <=       | Less than or equal to          | x <= y     |\n"
   ]
  },
  {
   "cell_type": "markdown",
   "id": "85a77557",
   "metadata": {},
   "source": [
    "Python Logical Operators\n",
    "Logical operators are used to combine conditional statements:                                                                                                                                                                                            | Operator | Description                                     | Example                           |\n",
    "|----------|-------------------------------------------------|-----------------------------------|\n",
    "| and      | Returns True if both statements are true        | x < 5 and x < 10                  |\n",
    "| or       | Returns True if one of the statements is true   | x < 5 or x < 4                    |\n",
    "| not      | Reverse the result, returns False if true       | not(x < 5 and x < 10)             |\n"
   ]
  },
  {
   "cell_type": "markdown",
   "id": "7c228e93",
   "metadata": {},
   "source": [
    "Python Identity Operators\n",
    "Identity operators are used to compare the objects, not if they are equal, but if they are actually the same object, with the same memory location:                                                                                                                                                                                                                                | Operator | Description                                              | Example    |\n",
    "|----------|----------------------------------------------------------|------------|\n",
    "| is       | Returns True if both variables are the same object       | x is y     |\n",
    "| is not   | Returns True if both variables are not the same object   | x is not y |\n"
   ]
  },
  {
   "cell_type": "markdown",
   "id": "567e4d0a",
   "metadata": {},
   "source": [
    "Python Membership Operators                                                                                        Membership operators are used to test if a sequence is presented in an object:                                                                                                                                                                          | Operator | Description                                                  | Example    |\n",
    "|----------|--------------------------------------------------------------|------------|\n",
    "| in       | Returns True if a sequence with the specified value is       | x in y     |\n",
    "|          | present in the object                                        |            |\n",
    "| not in   | Returns True if a sequence with the specified value is not   | x not in y |\n",
    "|          | present in the object                                        |            |\n"
   ]
  },
  {
   "cell_type": "markdown",
   "id": "a6135443",
   "metadata": {},
   "source": [
    "Python Bitwise Operators\n",
    "Bitwise operators are used to compare (binary) numbers:                                                                               \n",
    "                                                                                                                            | Operator | Name                 | Description                                                 | Example    |\n",
    "|----------|----------------------|------------------------------------------------------------ |------------|\n",
    "| &        | AND                  | Sets each bit to 1 if both bits are 1                       | x & y      |\n",
    "| ||       | OR                   | Sets each bit to 1 if one of two bits is 1                  | x || y     |\n",
    "| ^        | XOR                  | Sets each bit to 1 if only one of two bits is 1             | x ^ y      |\n",
    "| ~        | NOT                  | Inverts all the bits                                        | ~x         |\n",
    "| <<       | Zero fill left shift | Shift left by pushing zeros in from the right               | x << 2     |\n",
    "| >>       | Signed right shift   | Shift right by pushing copies of the leftmost bit           | x >> 2     |\n",
    "|          |                      | in from the left, and let the rightmost bits fall off       |            |\n"
   ]
  },
  {
   "cell_type": "code",
   "execution_count": 8,
   "id": "7a70c5ca",
   "metadata": {},
   "outputs": [
    {
     "name": "stdout",
     "output_type": "stream",
     "text": [
      "30\n"
     ]
    }
   ],
   "source": [
    "a = 10\n",
    "b = 20\n",
    "c = a+b\n",
    "print(c)"
   ]
  },
  {
   "cell_type": "markdown",
   "id": "ca20228d",
   "metadata": {},
   "source": [
    "# 5. CASTING"
   ]
  },
  {
   "cell_type": "markdown",
   "id": "b0caa8e9",
   "metadata": {},
   "source": [
    "In Python, casting is the process of converting a variable's data type to another data type."
   ]
  },
  {
   "cell_type": "code",
   "execution_count": 9,
   "id": "22782db1",
   "metadata": {},
   "outputs": [
    {
     "name": "stdout",
     "output_type": "stream",
     "text": [
      "30\n"
     ]
    }
   ],
   "source": [
    "a = int(\"10\")     #Converting string to int\n",
    "b = int(\"20\")     #Converting string to int\n",
    "c = a+b\n",
    "print(c)"
   ]
  },
  {
   "cell_type": "markdown",
   "id": "f130073f",
   "metadata": {},
   "source": [
    "# 6. USER INPUT"
   ]
  },
  {
   "cell_type": "code",
   "execution_count": 10,
   "id": "6878203d",
   "metadata": {},
   "outputs": [
    {
     "name": "stdout",
     "output_type": "stream",
     "text": [
      "5\n",
      "5\n"
     ]
    }
   ],
   "source": [
    "a = input()   #to get input from user and store it as string format defaultly\n",
    "print(a)"
   ]
  },
  {
   "cell_type": "code",
   "execution_count": 11,
   "id": "f7cfc7cf",
   "metadata": {},
   "outputs": [
    {
     "name": "stdout",
     "output_type": "stream",
     "text": [
      "Enter the value for a:5\n",
      "Enter the value for b:45\n",
      "50\n"
     ]
    }
   ],
   "source": [
    "a = int(input(\"Enter the value for a:\"))  #the input in string format is converted into int\n",
    "b = int(input(\"Enter the value for b:\"))  #the input in string format is converted into int\n",
    "c = a + b\n",
    "print(c)"
   ]
  },
  {
   "cell_type": "markdown",
   "id": "f3b11d50",
   "metadata": {},
   "source": [
    "#  SAMPLE EXAMPLES"
   ]
  },
  {
   "cell_type": "markdown",
   "id": "2999f3b2",
   "metadata": {},
   "source": [
    "1) Get input for variable name and age. Print it.                                                                      sample input:                                                                                                            Tamil                                                                                                                        20                                                                                                                          sample Output :                                                                                                          \"My Name is: Tamil\"                                                                                                         \"My Age is: 20\""
   ]
  },
  {
   "cell_type": "code",
   "execution_count": 12,
   "id": "a74a1780",
   "metadata": {},
   "outputs": [
    {
     "name": "stdout",
     "output_type": "stream",
     "text": [
      "Tamil\n",
      "20\n",
      "My Name is Tamil\n",
      "My Age is 20\n"
     ]
    }
   ],
   "source": [
    "Name = input()\n",
    "Age = int(input())\n",
    "print(\"My Name is\", Name)\n",
    "print(\"My Age is\", Age) "
   ]
  },
  {
   "cell_type": "markdown",
   "id": "6b43e6a5",
   "metadata": {},
   "source": [
    "2)Get input for variable name and age. Print name, age and address.                                                          sample input:                                                                                                            Tamil                                                                                                                        20                                                                                                                          sample Output :                                                                                                          \"My Name is: Tamil\"                                                                                                         \"My Age is: 20\"\n",
    "\"My Address is: Avadi, Chennai\""
   ]
  },
  {
   "cell_type": "code",
   "execution_count": 13,
   "id": "7933daf2",
   "metadata": {},
   "outputs": [
    {
     "name": "stdout",
     "output_type": "stream",
     "text": [
      "Enter name:Tamil\n",
      "Enter Age:20\n",
      "Enter addressChennai\n",
      "My Name is Tamil\n",
      "My Age is 20\n",
      "My Address is Chennai\n"
     ]
    }
   ],
   "source": [
    "Name = input(\"Enter name:\")\n",
    "Age = int(input(\"Enter Age:\"))\n",
    "Address = input(\"Enter address\")\n",
    "print(\"My Name is\", Name)\n",
    "print(\"My Age is\", Age) \n",
    "print(\"My Address is\", Address)"
   ]
  },
  {
   "cell_type": "markdown",
   "id": "6f8ab704",
   "metadata": {},
   "source": [
    "3) Get integer input for variable a, b, c. Multiply all 3 variables(a*b*c) add all 3 variable (a+b+c), Divide the multiplied value by added values. Print it. Output should be in decimal value."
   ]
  },
  {
   "cell_type": "code",
   "execution_count": 1,
   "id": "7ad6535f",
   "metadata": {},
   "outputs": [
    {
     "name": "stdout",
     "output_type": "stream",
     "text": [
      "a = 5\n",
      "b = 4\n",
      "c = 3\n",
      "5.0\n"
     ]
    }
   ],
   "source": [
    "a = int(input(\"a = \"))\n",
    "b = int(input(\"b = \"))\n",
    "c = int(input(\"c = \"))\n",
    "mul = a*b*c\n",
    "add = a+b+c\n",
    "print(float(mul/add))\n"
   ]
  },
  {
   "cell_type": "markdown",
   "id": "fdeaf0ab",
   "metadata": {},
   "source": [
    "4) Get input for varibale name, Score, Department. Get score for 100, and divide 100/10"
   ]
  },
  {
   "cell_type": "code",
   "execution_count": 4,
   "id": "deaa1455",
   "metadata": {
    "scrolled": true
   },
   "outputs": [
    {
     "name": "stdout",
     "output_type": "stream",
     "text": [
      "Enter name:Tamilarasi\n",
      "Enter Score:86\n",
      "Enter department:Computer Science\n",
      "My name is Tamilarasi\n",
      "My Score is 8.6 /10\n",
      "My department is Computer Science\n"
     ]
    }
   ],
   "source": [
    "Name = input(\"Enter name:\")\n",
    "Score = int(input(\"Enter Score:\"))\n",
    "Department = input(\"Enter department:\")\n",
    "Mark = Score/10\n",
    "print(\"My name is\", Name)\n",
    "print(\"My Score is\", Mark,\"/10\")\n",
    "print(\"My department is\", Department)"
   ]
  },
  {
   "cell_type": "markdown",
   "id": "03b89628",
   "metadata": {},
   "source": [
    "# 7. COMPARISION OPERATOR "
   ]
  },
  {
   "cell_type": "code",
   "execution_count": 9,
   "id": "f9f1c6ad",
   "metadata": {},
   "outputs": [
    {
     "name": "stdout",
     "output_type": "stream",
     "text": [
      "True\n"
     ]
    }
   ],
   "source": [
    "print(\"win\" == \"win\")  #comparision operator"
   ]
  },
  {
   "cell_type": "code",
   "execution_count": 10,
   "id": "c3ab1161",
   "metadata": {},
   "outputs": [
    {
     "name": "stdout",
     "output_type": "stream",
     "text": [
      "False\n"
     ]
    }
   ],
   "source": [
    "print(\"win\" == \"winn\") #comparision operator"
   ]
  },
  {
   "cell_type": "markdown",
   "id": "3846b105",
   "metadata": {},
   "source": [
    "# 8. IF-ELSE"
   ]
  },
  {
   "cell_type": "code",
   "execution_count": 5,
   "id": "e5f4a9a7",
   "metadata": {},
   "outputs": [
    {
     "name": "stdout",
     "output_type": "stream",
     "text": [
      "Yes\n"
     ]
    }
   ],
   "source": [
    "if(True):\n",
    "    print(\"Yes\")\n",
    "else:\n",
    "    print(\"No\")"
   ]
  },
  {
   "cell_type": "code",
   "execution_count": 6,
   "id": "2d0f9851",
   "metadata": {},
   "outputs": [
    {
     "name": "stdout",
     "output_type": "stream",
     "text": [
      "No\n"
     ]
    }
   ],
   "source": [
    "if(False):\n",
    "    print(\"Yes\")\n",
    "else:\n",
    "    print(\"No\")"
   ]
  },
  {
   "cell_type": "code",
   "execution_count": 11,
   "id": "efdb0482",
   "metadata": {},
   "outputs": [
    {
     "name": "stdout",
     "output_type": "stream",
     "text": [
      "put up the umbrella\n"
     ]
    }
   ],
   "source": [
    "weather = \"Rainy\"\n",
    "if(weather == \"Rainy\"):\n",
    "    print(\"put up the umbrella\")\n",
    "else:\n",
    "    print(\"put down the umbrella\")\n"
   ]
  },
  {
   "cell_type": "code",
   "execution_count": 12,
   "id": "4428b483",
   "metadata": {},
   "outputs": [
    {
     "name": "stdout",
     "output_type": "stream",
     "text": [
      "put down the umbrella\n"
     ]
    }
   ],
   "source": [
    "weather = \"Sun Shining\"\n",
    "if(weather == \"Rainy\"):\n",
    "    print(\"put up the umbrella\")\n",
    "else:\n",
    "    print(\"put down the umbrella\")"
   ]
  },
  {
   "cell_type": "code",
   "execution_count": 14,
   "id": "43556335",
   "metadata": {},
   "outputs": [
    {
     "name": "stdout",
     "output_type": "stream",
     "text": [
      "Died\n",
      "Surya meets priya\n"
     ]
    }
   ],
   "source": [
    "meghna = input()\n",
    "if(meghna == \"Died\"):\n",
    "    print(\"Surya meets priya\")\n",
    "else:\n",
    "    print(\"Surya weds meghna\")"
   ]
  },
  {
   "cell_type": "markdown",
   "id": "2fa3682b",
   "metadata": {},
   "source": [
    "# SAMPLE QUESTIONS :-"
   ]
  },
  {
   "cell_type": "markdown",
   "id": "ef3f0d92",
   "metadata": {},
   "source": [
    "1) Get input for variable mark. if mark>35 print pass. Else print fail"
   ]
  },
  {
   "cell_type": "code",
   "execution_count": 3,
   "id": "8f2f3ab8",
   "metadata": {},
   "outputs": [
    {
     "name": "stdout",
     "output_type": "stream",
     "text": [
      "Enter Your Mark: 90\n",
      "Pass\n"
     ]
    }
   ],
   "source": [
    "Mark = int(input(\"Enter Your Mark: \"))\n",
    "if(Mark > 35):\n",
    "    print(\"Pass\")\n",
    "else:\n",
    "    print(\"Fail\")"
   ]
  },
  {
   "cell_type": "markdown",
   "id": "d570736f",
   "metadata": {},
   "source": [
    "2) Get input for varibale income.  If income is lesser than 7000 scholarship is available.  Else not eligible for scholarship"
   ]
  },
  {
   "cell_type": "code",
   "execution_count": 7,
   "id": "169be53f",
   "metadata": {},
   "outputs": [
    {
     "name": "stdout",
     "output_type": "stream",
     "text": [
      "Enter your income: 7600\n",
      "Not eligible for scholarship\n"
     ]
    }
   ],
   "source": [
    "Income = int(input(\"Enter your income: \"))\n",
    "if(Income > 7000):\n",
    "    print(\"Not eligible for scholarship\")\n",
    "else:\n",
    "    print(\"Scholarship is available\")"
   ]
  },
  {
   "cell_type": "markdown",
   "id": "4be6773a",
   "metadata": {},
   "source": [
    "3) Get input for a number and check whether it is divisible by both 3 and 5 or not. If yes then print, the number is divisible by 3 and 5 .  Else print the number is not divisile by 3 and 5."
   ]
  },
  {
   "cell_type": "code",
   "execution_count": 10,
   "id": "7a812b5f",
   "metadata": {},
   "outputs": [
    {
     "name": "stdout",
     "output_type": "stream",
     "text": [
      "Enter a number: 15\n",
      "15  is divisible by 3 and 5\n"
     ]
    }
   ],
   "source": [
    "Num = int(input(\"Enter a number: \"))\n",
    "if(Num%3==0 & Num%5==0):\n",
    "    print(Num,\" is divisible by 3 and 5\")\n",
    "else:\n",
    "    print(Num, \" is not divisible by 3 and 5\")"
   ]
  },
  {
   "cell_type": "markdown",
   "id": "ba3baace",
   "metadata": {},
   "source": [
    "4) Get input for a number and find it is even or odd."
   ]
  },
  {
   "cell_type": "code",
   "execution_count": 13,
   "id": "eaf78041",
   "metadata": {},
   "outputs": [
    {
     "name": "stdout",
     "output_type": "stream",
     "text": [
      "Enter a number: 10\n",
      "10 is even Number\n"
     ]
    }
   ],
   "source": [
    "Num = int(input(\"Enter a number: \"))\n",
    "if(Num%2 == 0):\n",
    "    print(Num,\"is even Number\")\n",
    "else:\n",
    "    print(Num,\"is odd Number\")"
   ]
  },
  {
   "cell_type": "markdown",
   "id": "67a0ba63",
   "metadata": {},
   "source": [
    "5) Get input for score out of 100. \n",
    "If score is < 35, then print poor student. \n",
    "If score is greater than 35 but lesser than 70, then print Average student.\n",
    "If score is greater than 70, then print Good student"
   ]
  },
  {
   "cell_type": "code",
   "execution_count": 32,
   "id": "f402ad05",
   "metadata": {},
   "outputs": [
    {
     "name": "stdout",
     "output_type": "stream",
     "text": [
      "Enter your Score: 95\n",
      "Good student\n"
     ]
    }
   ],
   "source": [
    "Score = int(input(\"Enter your Score: \"))\n",
    "if(Score < 35):\n",
    "    print(\"poor student\")\n",
    "elif(Score>35 and Score<70):\n",
    "    print(\"Average student\")\n",
    "elif(Score>70 and Score<100):\n",
    "    print(\"Good student\")\n",
    "else:\n",
    "    print(\"invalid\")"
   ]
  },
  {
   "cell_type": "markdown",
   "id": "5534cef2",
   "metadata": {},
   "source": [
    "6) Make a mini calculator\n",
    "Get input for 2 numbers a and b.  Get input from user whether to   add/sub/mul/div.  If user selects add then the two number and print the result."
   ]
  },
  {
   "cell_type": "code",
   "execution_count": 36,
   "id": "59dcea49",
   "metadata": {},
   "outputs": [
    {
     "name": "stdout",
     "output_type": "stream",
     "text": [
      "Enter the value for a: 10\n",
      "Enter the value for b: 5\n",
      "Add/Sub/Mul/Div:Div\n",
      "2.0\n"
     ]
    }
   ],
   "source": [
    "a = int(input(\"Enter the value for a: \"))\n",
    "b = int(input(\"Enter the value for b: \"))\n",
    "Action = input(\"Add/Sub/Mul/Div:\")\n",
    "if(Action == \"Add\"):\n",
    "    print(a+b)\n",
    "elif(Action == \"Sub\"):\n",
    "    print(a-b)\n",
    "elif(Action == \"Mul\"):\n",
    "    print(a*b)\n",
    "elif(Action == \"Div\"):\n",
    "    print(a/b)\n",
    "else:\n",
    "    print(\"Invalid Action\")"
   ]
  },
  {
   "cell_type": "markdown",
   "id": "66c0a3d3",
   "metadata": {},
   "source": [
    "7) Get a input for score percentage.  Only if the percentage isgreater than 70, get input for his name, department, and location.  then print you are eligible.  If not print you are not eligible."
   ]
  },
  {
   "cell_type": "code",
   "execution_count": 38,
   "id": "6c9d16aa",
   "metadata": {},
   "outputs": [
    {
     "name": "stdout",
     "output_type": "stream",
     "text": [
      "Enter your scored percentage: 80\n",
      "Enter Your name: Tamilarasi\n",
      "Enter Your Department: CSE\n",
      "Enter Your Location: Chennai\n",
      "You are eligible\n"
     ]
    }
   ],
   "source": [
    "Percentage = int(input(\"Enter your scored percentage: \"))\n",
    "if(Percentage > 70):\n",
    "    Name = input(\"Enter Your name: \")\n",
    "    Dept = input(\"Enter Your Department: \")\n",
    "    Loc = input(\"Enter Your Location: \")\n",
    "    print(\"You are eligible\")\n",
    "else:\n",
    "    print(\"You are not eligible\")"
   ]
  },
  {
   "cell_type": "markdown",
   "id": "4f5980f4",
   "metadata": {},
   "source": [
    "8) Get input for salary and age.\n",
    "\n",
    "if salary greater than or equal to 20000 or age less than or equal to 25, get input for required loan amount.  If not print you are not eligible for loan.\n",
    "\n",
    "If required loan amount is less than or equal to 50,000 print. You are eligible for loan.  If it is greater than 50,000 print maximum loan amount is 50000"
   ]
  },
  {
   "cell_type": "code",
   "execution_count": 4,
   "id": "7fb9f0b1",
   "metadata": {},
   "outputs": [
    {
     "name": "stdout",
     "output_type": "stream",
     "text": [
      "Enter your salary: 2000\n",
      "Enter your age: 21\n",
      "Enter your loan amount: 4000\n",
      "You are eligible for loan\n"
     ]
    }
   ],
   "source": [
    "salary = int(input(\"Enter your salary: \"))\n",
    "age = int(input(\"Enter your age: \"))\n",
    "if(salary >= 20000 or age<= 25):\n",
    "    loan = int(input(\"Enter your loan amount: \"))\n",
    "    if(loan<= 50000):\n",
    "        print(\"You are eligible for loan\")\n",
    "    else:\n",
    "        print(\"Maximum loan amount is 50000\")\n",
    "else:\n",
    "    print(\"You are not eligible for loan\")"
   ]
  },
  {
   "cell_type": "markdown",
   "id": "de00ebb5",
   "metadata": {},
   "source": [
    "9) Get input for five subject marks. Add all of it, And find average.  If average mark is less than 35.  Print \"Additional class is required\" else print \"You are good to go\""
   ]
  },
  {
   "cell_type": "code",
   "execution_count": 6,
   "id": "a16c633f",
   "metadata": {},
   "outputs": [
    {
     "name": "stdout",
     "output_type": "stream",
     "text": [
      "Enter maths mark: 10\n",
      "Enter social mark: 20\n",
      "Enter English mark: 40\n",
      "Enter Science mark: 30\n",
      "Enter Computer mark: 10\n",
      "Additional class is required\n"
     ]
    }
   ],
   "source": [
    "Maths = int(input(\"Enter maths mark: \"))\n",
    "Social = int(input(\"Enter social mark: \"))\n",
    "English = int(input(\"Enter English mark: \"))\n",
    "Science = int(input(\"Enter Science mark: \"))\n",
    "Computer = int(input(\"Enter Computer mark: \"))\n",
    "Total = Maths + Social + English + Science + Computer\n",
    "Avg = Total/5\n",
    "if(Avg < 35):\n",
    "    print(\"Additional class is required\")\n",
    "else:\n",
    "    print(\"You are good to go\")"
   ]
  },
  {
   "cell_type": "markdown",
   "id": "1b1e6b26",
   "metadata": {},
   "source": [
    "# 9. FOR LOOP"
   ]
  },
  {
   "cell_type": "code",
   "execution_count": 1,
   "id": "4a136348",
   "metadata": {},
   "outputs": [
    {
     "name": "stdout",
     "output_type": "stream",
     "text": [
      "A\n",
      "p\n",
      "p\n",
      "l\n",
      "e\n"
     ]
    }
   ],
   "source": [
    "for i in \"Apple\":\n",
    "    print(i)"
   ]
  },
  {
   "cell_type": "code",
   "execution_count": 2,
   "id": "645ff9c4",
   "metadata": {},
   "outputs": [
    {
     "name": "stdout",
     "output_type": "stream",
     "text": [
      "0\n",
      "1\n",
      "2\n",
      "3\n",
      "4\n"
     ]
    }
   ],
   "source": [
    "for i in range(5):\n",
    "    print(i)"
   ]
  },
  {
   "cell_type": "code",
   "execution_count": 4,
   "id": "4c07c3c6",
   "metadata": {},
   "outputs": [
    {
     "name": "stdout",
     "output_type": "stream",
     "text": [
      "1\n",
      "2\n",
      "3\n",
      "4\n",
      "5\n",
      "6\n",
      "7\n",
      "8\n",
      "9\n",
      "10\n"
     ]
    }
   ],
   "source": [
    "for i in range(1,11):\n",
    "    print(i)"
   ]
  },
  {
   "cell_type": "code",
   "execution_count": 5,
   "id": "8124bf4d",
   "metadata": {},
   "outputs": [
    {
     "name": "stdout",
     "output_type": "stream",
     "text": [
      "5\n",
      "6\n",
      "7\n",
      "8\n",
      "9\n",
      "10\n",
      "11\n",
      "12\n",
      "13\n",
      "14\n",
      "15\n",
      "16\n",
      "17\n",
      "18\n",
      "19\n"
     ]
    }
   ],
   "source": [
    "for i in range(5, 20):\n",
    "    print(i)"
   ]
  },
  {
   "cell_type": "markdown",
   "id": "d26a4ded",
   "metadata": {},
   "source": [
    "1. Print 2 table using For loop"
   ]
  },
  {
   "cell_type": "code",
   "execution_count": 13,
   "id": "be45bc47",
   "metadata": {},
   "outputs": [
    {
     "name": "stdout",
     "output_type": "stream",
     "text": [
      "2 * 1  =  2\n",
      "2 * 2  =  4\n",
      "2 * 3  =  6\n",
      "2 * 4  =  8\n",
      "2 * 5  =  10\n",
      "2 * 6  =  12\n",
      "2 * 7  =  14\n",
      "2 * 8  =  16\n",
      "2 * 9  =  18\n",
      "2 * 10  =  20\n"
     ]
    }
   ],
   "source": [
    "for i in range(1,11):\n",
    "    table = i * 2\n",
    "    print(\"2 *\", i, \" = \", table)"
   ]
  },
  {
   "cell_type": "markdown",
   "id": "0014f24d",
   "metadata": {},
   "source": [
    "2. print 3 tables using For loop"
   ]
  },
  {
   "cell_type": "code",
   "execution_count": 17,
   "id": "693d6307",
   "metadata": {},
   "outputs": [
    {
     "name": "stdout",
     "output_type": "stream",
     "text": [
      "3 X 1 = 3\n",
      "3 X 2 = 6\n",
      "3 X 3 = 9\n",
      "3 X 4 = 12\n",
      "3 X 5 = 15\n",
      "3 X 6 = 18\n",
      "3 X 7 = 21\n",
      "3 X 8 = 24\n",
      "3 X 9 = 27\n",
      "3 X 10 = 30\n",
      "3 X 11 = 33\n",
      "3 X 12 = 36\n",
      "3 X 13 = 39\n",
      "3 X 14 = 42\n",
      "3 X 15 = 45\n",
      "3 X 16 = 48\n",
      "3 X 17 = 51\n",
      "3 X 18 = 54\n",
      "3 X 19 = 57\n",
      "3 X 20 = 60\n"
     ]
    }
   ],
   "source": [
    "for i in range(1, 21):\n",
    "    print(\"3 X\", i , \"=\", i*3)"
   ]
  },
  {
   "cell_type": "markdown",
   "id": "7c450708",
   "metadata": {},
   "source": [
    "#SAMPLE QUESTIONS"
   ]
  },
  {
   "cell_type": "markdown",
   "id": "aec54924",
   "metadata": {},
   "source": [
    "1. Get input for number a and b. Print the number between a and b\n",
    "\n",
    "sample input:-\n",
    "8\n",
    "15\n",
    "\n",
    "sample output:-\n",
    "9\n",
    "10\n",
    "11\n",
    "12\n",
    "13\n",
    "14"
   ]
  },
  {
   "cell_type": "code",
   "execution_count": 2,
   "id": "50cc1e6b",
   "metadata": {},
   "outputs": [
    {
     "name": "stdout",
     "output_type": "stream",
     "text": [
      " Enter a:8\n",
      " Enter b:15\n",
      "9\n",
      "10\n",
      "11\n",
      "12\n",
      "13\n",
      "14\n"
     ]
    }
   ],
   "source": [
    "a = int(input(\" Enter a:\"))\n",
    "b = int(input(\" Enter b:\"))\n",
    "for i in range(a+1, b):\n",
    "    print(i)"
   ]
  },
  {
   "cell_type": "markdown",
   "id": "8522c0dc",
   "metadata": {},
   "source": [
    "2. Print even number between 1 to 10.\n",
    "\n",
    "sample input:-\n",
    "2,4,6,8,10"
   ]
  },
  {
   "cell_type": "code",
   "execution_count": 16,
   "id": "b5604f0a",
   "metadata": {},
   "outputs": [
    {
     "name": "stdout",
     "output_type": "stream",
     "text": [
      "2\n",
      "4\n",
      "6\n",
      "8\n",
      "10\n"
     ]
    }
   ],
   "source": [
    "\n",
    "for i in range(1, 11):\n",
    "    if(i%2==0):\n",
    "        print(i)"
   ]
  },
  {
   "cell_type": "markdown",
   "id": "6b121608",
   "metadata": {},
   "source": [
    "3. Count the number of odd numbers between 1 to 10\n",
    "\n",
    "Sample Output:-\n",
    "5"
   ]
  },
  {
   "cell_type": "code",
   "execution_count": 21,
   "id": "37342179",
   "metadata": {},
   "outputs": [
    {
     "name": "stdout",
     "output_type": "stream",
     "text": [
      "5\n"
     ]
    }
   ],
   "source": [
    "Count = 0\n",
    "for i in range(1,11):\n",
    "    if(i%2!=0):\n",
    "        Count = Count+1\n",
    "print(Count)"
   ]
  },
  {
   "cell_type": "markdown",
   "id": "87cad8b0",
   "metadata": {},
   "source": [
    "4.  Count the number of odd and even numbers between 1 to 10 and print it\n",
    "\n",
    "Sample Output:-\n",
    "Even: 5\n",
    "Odd: 5\n"
   ]
  },
  {
   "cell_type": "code",
   "execution_count": 22,
   "id": "51ed8a6f",
   "metadata": {},
   "outputs": [
    {
     "name": "stdout",
     "output_type": "stream",
     "text": [
      "Even: 5 Odd: 5\n"
     ]
    }
   ],
   "source": [
    "EvenCount = 0\n",
    "OddCount = 0\n",
    "for i in range(1, 11):\n",
    "    if(i%2==0):\n",
    "        EvenCount = EvenCount + 1\n",
    "    else:\n",
    "        OddCount = OddCount + 1\n",
    "print(\"Even:\", EvenCount, \"Odd:\", OddCount)"
   ]
  },
  {
   "cell_type": "markdown",
   "id": "a39185dd",
   "metadata": {},
   "source": [
    "5.  Count the number which are divisible by 3 and 4. Range 1-100"
   ]
  },
  {
   "cell_type": "code",
   "execution_count": 24,
   "id": "299e9273",
   "metadata": {},
   "outputs": [
    {
     "name": "stdout",
     "output_type": "stream",
     "text": [
      "The Count of number which are divisible by 3 and 4 betweeen 1 and 100 is: 8\n"
     ]
    }
   ],
   "source": [
    "Count = 0\n",
    "for i in range(1, 101):\n",
    "    if(i%3==0 and i%4==0):\n",
    "        Count = Count + 1\n",
    "print(\"The Count of number which are divisible by 3 and 4 betweeen 1 and 100 is:\", Count)"
   ]
  },
  {
   "cell_type": "markdown",
   "id": "31abef84",
   "metadata": {},
   "source": [
    "6.  Write a program to compute the sum of the first 5 natural numbers"
   ]
  },
  {
   "cell_type": "code",
   "execution_count": 28,
   "id": "af0b0b3b",
   "metadata": {},
   "outputs": [
    {
     "name": "stdout",
     "output_type": "stream",
     "text": [
      "The Sum of first 5 natural numbers is: 15\n"
     ]
    }
   ],
   "source": [
    "n = 0\n",
    "for i in range(1,6):\n",
    "    n = n + i\n",
    "print(\"The Sum of first 5 natural numbers is:\",n)"
   ]
  },
  {
   "cell_type": "markdown",
   "id": "ede9a2ae",
   "metadata": {},
   "source": [
    "# 10. FOR LOOP WITH LIST"
   ]
  },
  {
   "cell_type": "code",
   "execution_count": 38,
   "id": "d7809a5d",
   "metadata": {},
   "outputs": [
    {
     "name": "stdout",
     "output_type": "stream",
     "text": [
      "1\n",
      "2\n",
      "3\n",
      "4\n",
      "5\n"
     ]
    }
   ],
   "source": [
    "a = [1,2,3,4,5]\n",
    "for i in a:\n",
    "    print(i)"
   ]
  },
  {
   "cell_type": "code",
   "execution_count": 39,
   "id": "43ee99f1",
   "metadata": {},
   "outputs": [
    {
     "name": "stdout",
     "output_type": "stream",
     "text": [
      "[3, 4, 10]\n"
     ]
    }
   ],
   "source": [
    "a = []\n",
    "a.append(3)\n",
    "a.append(4)\n",
    "a.append(10)\n",
    "print(a)"
   ]
  },
  {
   "cell_type": "code",
   "execution_count": 40,
   "id": "127a02c8",
   "metadata": {},
   "outputs": [
    {
     "name": "stdout",
     "output_type": "stream",
     "text": [
      "b =25\n",
      "[3, 4, 25]\n"
     ]
    }
   ],
   "source": [
    "a = []\n",
    "a.append(3)\n",
    "a.append(4)\n",
    "b = int(input(\"b =\"))\n",
    "a.append(b)\n",
    "print(a)"
   ]
  },
  {
   "cell_type": "code",
   "execution_count": 45,
   "id": "17183662",
   "metadata": {},
   "outputs": [
    {
     "name": "stdout",
     "output_type": "stream",
     "text": [
      "1\n",
      "2\n",
      "3\n",
      "4\n",
      "5\n",
      "6\n",
      "7\n",
      "8\n",
      "9\n",
      "10\n",
      "[1, 2, 3, 4, 5, 6, 7, 8, 9, 10]\n"
     ]
    }
   ],
   "source": [
    "a =[]\n",
    "for i in range(10):\n",
    "    n = int(input())\n",
    "    a.append(n)\n",
    "print(a)"
   ]
  },
  {
   "cell_type": "markdown",
   "id": "6ff2e07d",
   "metadata": {},
   "source": [
    "7.  Wrtie a program to read 10 numbers from the keyboard and find their sum and average"
   ]
  },
  {
   "cell_type": "code",
   "execution_count": 5,
   "id": "2b2bf81b",
   "metadata": {},
   "outputs": [
    {
     "name": "stdout",
     "output_type": "stream",
     "text": [
      "10\n",
      "20\n",
      "30\n",
      "40\n",
      "50\n",
      "60\n",
      "70\n",
      "80\n",
      "90\n",
      "100\n",
      "[10, 20, 30, 40, 50, 60, 70, 80, 90, 100]\n",
      "Sum is 550\n",
      "Average is 55.0\n"
     ]
    }
   ],
   "source": [
    "a = []\n",
    "for i in range(10):\n",
    "    num = int(input())\n",
    "    a.append(num)\n",
    "print(a)  \n",
    "\n",
    "\n",
    "s = 0\n",
    "for i in a:\n",
    "    s = s+i \n",
    "print(\"Sum is\",s)\n",
    "print(\"Average is\", s/10)"
   ]
  },
  {
   "cell_type": "markdown",
   "id": "bc055db6",
   "metadata": {},
   "source": [
    "8.  Write a program to display n terms of natural numbers and their sum \n",
    "\n",
    "Test data:\n",
    "7\n",
    "\n",
    "Expected output:\n",
    "The first 7 natural number is:\n",
    "1 2 3 4 5 6 7"
   ]
  },
  {
   "cell_type": "code",
   "execution_count": 35,
   "id": "9875f258",
   "metadata": {},
   "outputs": [
    {
     "name": "stdout",
     "output_type": "stream",
     "text": [
      "Enter value: 7\n",
      "The first 7 natural number is: 1\n",
      "The first 7 natural number is: 2\n",
      "The first 7 natural number is: 3\n",
      "The first 7 natural number is: 4\n",
      "The first 7 natural number is: 5\n",
      "The first 7 natural number is: 6\n",
      "The first 7 natural number is: 7\n",
      "The sum is 28\n"
     ]
    }
   ],
   "source": [
    "n = int(input(\"Enter value: \"))\n",
    "s = 0\n",
    "for i in range(1, n+1):\n",
    "    s = s + i\n",
    "    print(\"The first\", n, \"natural number is:\", i)\n",
    "print(\"The sum is\", s)\n",
    "    "
   ]
  },
  {
   "cell_type": "markdown",
   "id": "00a29cc4",
   "metadata": {},
   "source": [
    "9.  Write a program to display the cube of the numbers up to an integer.\n",
    "\n",
    "Test data:\n",
    "Input number of terms: 5\n",
    "\n",
    "Expected Output:\n",
    "Number is: 1 and cube of the 1 is: 1\n",
    "Number is: 2 and cube of the 2 is: 8\n",
    "Number is: 3 and cube of the 3 is: 27\n",
    "Number is: 4 and cube of the 4 is: 64\n",
    "Number is: 5 and cube of the 5 is: 125"
   ]
  },
  {
   "cell_type": "markdown",
   "id": "86a5900c",
   "metadata": {},
   "source": [
    "10.  Write a program to display a pattern like a right angle triangle using an asterisk.\n",
    "\n",
    "The pattern like:\n",
    "'*'\n",
    "'**'\n",
    "'***'\n",
    "'****'\n",
    "'*****'"
   ]
  }
 ],
 "metadata": {
  "kernelspec": {
   "display_name": "Python 3 (ipykernel)",
   "language": "python",
   "name": "python3"
  },
  "language_info": {
   "codemirror_mode": {
    "name": "ipython",
    "version": 3
   },
   "file_extension": ".py",
   "mimetype": "text/x-python",
   "name": "python",
   "nbconvert_exporter": "python",
   "pygments_lexer": "ipython3",
   "version": "3.9.13"
  }
 },
 "nbformat": 4,
 "nbformat_minor": 5
}
